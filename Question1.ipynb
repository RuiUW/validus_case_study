{
 "cells": [
  {
   "cell_type": "code",
   "execution_count": 11,
   "id": "0379f12d",
   "metadata": {},
   "outputs": [],
   "source": [
    "import numpy as np"
   ]
  },
  {
   "cell_type": "code",
   "execution_count": 12,
   "id": "468ac615",
   "metadata": {},
   "outputs": [
    {
     "data": {
      "text/plain": [
       "0.0497500000000001"
      ]
     },
     "execution_count": 12,
     "metadata": {},
     "output_type": "execute_result"
    }
   ],
   "source": [
    "# Initialise parameters\n",
    "S0 = 1     # initial stock price\n",
    "q = 0.5    # the probability of an upwards price movement\n",
    "K = 1.05   # strike price\n",
    "r = 0      # interest rate for a signle time period\n",
    "N = 3      # number of time steps\n",
    "v = 0.1\n",
    "\n",
    "def binomial_tree_eurcall(v,K,N,r):\n",
    "    u = 1+v\n",
    "    d = 1-v\n",
    "    disc = np.exp(-r*N)\n",
    "    \n",
    "    S = np.zeros(N+1)\n",
    "    S[0] = S0*d**N\n",
    "    for j in range(1,N+1):\n",
    "        S[j] = S[j-1]*u/d\n",
    "    \n",
    "    C = np.zeros(N+1)\n",
    "    for j in range(0,N+1):\n",
    "        C[j] = max(0, S[j]-K)  \n",
    "    \n",
    "    # step backwards through tree\n",
    "    for i in np.arange(N,0,-1):\n",
    "        for j in range(0,i):\n",
    "            C[j] = disc * ( q*C[j+1] + (1-q)*C[j] )\n",
    "    return C[0]\n",
    "        \n",
    "binomial_tree_eurcall(v,K,N,r)"
   ]
  },
  {
   "cell_type": "code",
   "execution_count": 13,
   "id": "b797f593",
   "metadata": {},
   "outputs": [],
   "source": [
    "def binomial_tree_eurcall2(v,K,N,r):\n",
    "    #precompute constants\n",
    "    u = 1+v\n",
    "    d = 1-v\n",
    "    disc = np.exp(-r*N)\n",
    "    \n",
    "    # initialise asset prices at maturity - Time step N\n",
    "    C = S0 * d ** (np.arange(N,-1,-1)) * u ** (np.arange(0,N+1,1)) \n",
    "\n",
    "    # initialise option values at maturity\n",
    "    C = np.maximum( C - K , np.zeros(N+1) )\n",
    "        \n",
    "    # step backwards through tree\n",
    "    for i in np.arange(N,0,-1):\n",
    "        C = disc * ( q * C[1:i+1] + (1-q) * C[0:i] )\n",
    "    return C[0]"
   ]
  },
  {
   "cell_type": "code",
   "execution_count": 10,
   "id": "b47516e7",
   "metadata": {},
   "outputs": [
    {
     "data": {
      "text/plain": [
       "0.0497500000000001"
      ]
     },
     "execution_count": 10,
     "metadata": {},
     "output_type": "execute_result"
    }
   ],
   "source": [
    "binomial_tree_eurcall2(v,K,N,r)"
   ]
  },
  {
   "cell_type": "code",
   "execution_count": null,
   "id": "8ca02dce",
   "metadata": {},
   "outputs": [],
   "source": []
  },
  {
   "cell_type": "code",
   "execution_count": null,
   "id": "d90a6e3c",
   "metadata": {},
   "outputs": [],
   "source": []
  },
  {
   "cell_type": "code",
   "execution_count": null,
   "id": "b1e1310b",
   "metadata": {},
   "outputs": [],
   "source": []
  }
 ],
 "metadata": {
  "kernelspec": {
   "display_name": "Python 3 (ipykernel)",
   "language": "python",
   "name": "python3"
  },
  "language_info": {
   "codemirror_mode": {
    "name": "ipython",
    "version": 3
   },
   "file_extension": ".py",
   "mimetype": "text/x-python",
   "name": "python",
   "nbconvert_exporter": "python",
   "pygments_lexer": "ipython3",
   "version": "3.9.12"
  }
 },
 "nbformat": 4,
 "nbformat_minor": 5
}
